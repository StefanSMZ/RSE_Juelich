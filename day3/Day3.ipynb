{
 "cells": [
  {
   "cell_type": "markdown",
   "id": "57a6d5ad",
   "metadata": {},
   "source": [
    "# 🧪 Day 3: Testing Exercise\n",
    "\n",
    "Welcome to **Day 3** of the Research Software Engineering course!  \n",
    "In this notebook, you'll practice writing and running **unit tests** for Python code.\n",
    "\n",
    "---\n",
    "\n",
    "### 🗒️ Learning Objectives\n",
    "By the end of this session, you should be able to:\n",
    "- ✅ Clone a GitHub repository\n",
    "- ✅ Set up your environment\n",
    "- ✅ Write and run simple tests using `pytest`\n",
    "- ✅ Understand test failures and fix broken code\n",
    "\n",
    "Let's get started! 🚀\n"
   ]
  },
  {
   "cell_type": "code",
   "execution_count": null,
   "id": "c3347c83",
   "metadata": {
    "colab": {
     "base_uri": "https://localhost:8080/"
    },
    "id": "c3347c83",
    "outputId": "3be9d206-83b8-4091-c3e5-d09ec83c0c1d"
   },
   "outputs": [
    {
     "name": "stdout",
     "output_type": "stream",
     "text": [
      "Cloning into 'RSE_Juelich'...\n",
      "remote: Enumerating objects: 182, done.\u001b[K\n",
      "remote: Counting objects: 100% (182/182), done.\u001b[K\n",
      "remote: Compressing objects: 100% (133/133), done.\u001b[K\n",
      "remote: Total 182 (delta 74), reused 103 (delta 26), pack-reused 0 (from 0)\u001b[K\n",
      "Receiving objects: 100% (182/182), 91.83 KiB | 5.40 MiB/s, done.\n",
      "Resolving deltas: 100% (74/74), done.\n"
     ]
    }
   ],
   "source": [
    "# 📥 Clone the course repository from GitHub\n",
    "!git clone https://github.com/likeajumprope/RSE_Juelich.git"
   ]
  },
  {
   "cell_type": "code",
   "execution_count": null,
   "id": "Va8vfwoe6kWp",
   "metadata": {
    "id": "Va8vfwoe6kWp"
   },
   "outputs": [],
   "source": [
    "# 🧹 Optional: Remove the repository if you need to start fresh\n",
    "# !rm -rf RSE_Juelich"
   ]
  },
  {
   "cell_type": "code",
   "execution_count": null,
   "id": "c2113d5e",
   "metadata": {
    "colab": {
     "base_uri": "https://localhost:8080/"
    },
    "id": "c2113d5e",
    "outputId": "50fd0e16-a2e7-4b50-a089-566c6c6ab805"
   },
   "outputs": [
    {
     "name": "stdout",
     "output_type": "stream",
     "text": [
      "/content/RSE_Juelich/day3\n"
     ]
    }
   ],
   "source": [
    "# 📂 Navigate into the Day 3 folder (adjust the path if necessary)\n",
    "%cd /content/RSE_Juelich/day3"
   ]
  },
  {
   "cell_type": "code",
   "execution_count": null,
   "id": "adaeed14",
   "metadata": {
    "colab": {
     "base_uri": "https://localhost:8080/"
    },
    "id": "adaeed14",
    "outputId": "4654ac0f-7d65-4847-c012-7972097eedfb"
   },
   "outputs": [
    {
     "name": "stdout",
     "output_type": "stream",
     "text": [
      "Requirement already satisfied: contourpy==1.3.2 in /usr/local/lib/python3.11/dist-packages (from -r requirements.txt (line 1)) (1.3.2)\n",
      "Requirement already satisfied: coverage==7.7.1 in /usr/local/lib/python3.11/dist-packages (from -r requirements.txt (line 2)) (7.7.1)\n",
      "Requirement already satisfied: cycler==0.12.1 in /usr/local/lib/python3.11/dist-packages (from -r requirements.txt (line 3)) (0.12.1)\n",
      "Requirement already satisfied: fonttools==4.57.0 in /usr/local/lib/python3.11/dist-packages (from -r requirements.txt (line 4)) (4.57.0)\n",
      "Requirement already satisfied: iniconfig==2.1.0 in /usr/local/lib/python3.11/dist-packages (from -r requirements.txt (line 5)) (2.1.0)\n",
      "Requirement already satisfied: kiwisolver==1.4.8 in /usr/local/lib/python3.11/dist-packages (from -r requirements.txt (line 6)) (1.4.8)\n",
      "Requirement already satisfied: matplotlib==3.10.1 in /usr/local/lib/python3.11/dist-packages (from -r requirements.txt (line 7)) (3.10.1)\n",
      "Requirement already satisfied: numpy==2.2.4 in /usr/local/lib/python3.11/dist-packages (from -r requirements.txt (line 8)) (2.2.4)\n",
      "Requirement already satisfied: packaging==24.2 in /usr/local/lib/python3.11/dist-packages (from -r requirements.txt (line 9)) (24.2)\n",
      "Requirement already satisfied: pandas==2.2.3 in /usr/local/lib/python3.11/dist-packages (from -r requirements.txt (line 10)) (2.2.3)\n",
      "Requirement already satisfied: pillow==11.2.1 in /usr/local/lib/python3.11/dist-packages (from -r requirements.txt (line 11)) (11.2.1)\n",
      "Requirement already satisfied: pluggy==1.5.0 in /usr/local/lib/python3.11/dist-packages (from -r requirements.txt (line 12)) (1.5.0)\n",
      "Requirement already satisfied: pyparsing==3.2.3 in /usr/local/lib/python3.11/dist-packages (from -r requirements.txt (line 13)) (3.2.3)\n",
      "Requirement already satisfied: pytest==8.3.5 in /usr/local/lib/python3.11/dist-packages (from -r requirements.txt (line 14)) (8.3.5)\n",
      "Requirement already satisfied: pytest-cov==6.0.0 in /usr/local/lib/python3.11/dist-packages (from -r requirements.txt (line 15)) (6.0.0)\n",
      "Requirement already satisfied: python-dateutil==2.9.0.post0 in /usr/local/lib/python3.11/dist-packages (from -r requirements.txt (line 16)) (2.9.0.post0)\n",
      "Requirement already satisfied: pytz==2025.2 in /usr/local/lib/python3.11/dist-packages (from -r requirements.txt (line 17)) (2025.2)\n",
      "Requirement already satisfied: setuptools==75.8.0 in /usr/local/lib/python3.11/dist-packages (from -r requirements.txt (line 18)) (75.8.0)\n",
      "Requirement already satisfied: six==1.17.0 in /usr/local/lib/python3.11/dist-packages (from -r requirements.txt (line 19)) (1.17.0)\n",
      "Requirement already satisfied: tzdata==2025.2 in /usr/local/lib/python3.11/dist-packages (from -r requirements.txt (line 20)) (2025.2)\n",
      "Requirement already satisfied: wheel==0.45.1 in /usr/local/lib/python3.11/dist-packages (from -r requirements.txt (line 21)) (0.45.1)\n",
      "Requirement already satisfied: pytest in /usr/local/lib/python3.11/dist-packages (8.3.5)\n",
      "Requirement already satisfied: iniconfig in /usr/local/lib/python3.11/dist-packages (from pytest) (2.1.0)\n",
      "Requirement already satisfied: packaging in /usr/local/lib/python3.11/dist-packages (from pytest) (24.2)\n",
      "Requirement already satisfied: pluggy<2,>=1.5 in /usr/local/lib/python3.11/dist-packages (from pytest) (1.5.0)\n"
     ]
    }
   ],
   "source": [
    "# 📦 Install required packages\n",
    "!pip install -r requirements.txt"
   ]
  },
  {
   "cell_type": "markdown",
   "id": "6eb395c2",
   "metadata": {
    "id": "6eb395c2"
   },
   "source": [
    "## Write tests\n",
    "\n",
    "We start with writing simple `assert` statements. These statements can be inserted directly into the code.\n",
    "\n",
    "First, use the `assert` statement to assert that the cleaned data has no Nans.\n",
    "\n",
    "Example:\n",
    "load file # this is mock goce\n",
    "assert file.isna().sum().sum() == 0"
   ]
  },
  {
   "cell_type": "markdown",
   "id": "315b0ef3",
   "metadata": {
    "id": "315b0ef3"
   },
   "source": []
  },
  {
   "cell_type": "code",
   "execution_count": 9,
   "id": "fdc2bb15",
   "metadata": {
    "id": "fdc2bb15"
   },
   "outputs": [],
   "source": [
    "import os\n",
    "import pandas as pd"
   ]
  },
  {
   "cell_type": "code",
   "execution_count": 10,
   "id": "6d2f2bf5",
   "metadata": {
    "colab": {
     "base_uri": "https://localhost:8080/"
    },
    "id": "6d2f2bf5",
    "outputId": "25c81662-4b99-43f6-9eaa-b6ccf7d2e79c"
   },
   "outputs": [
    {
     "data": {
      "text/plain": [
       "909"
      ]
     },
     "execution_count": 10,
     "metadata": {},
     "output_type": "execute_result"
    }
   ],
   "source": [
    "os.chdir('/content/RSE_Juelich/day3/reproducible-research-project/data/clean')\n",
    "clean_data = pd.read_csv('clean.csv')\n",
    "len(clean_data)"
   ]
  },
  {
   "cell_type": "code",
   "execution_count": null,
   "id": "75a2ca9b",
   "metadata": {
    "id": "75a2ca9b"
   },
   "outputs": [],
   "source": [
    "assert clean_data.isna().sum().sum() == 0, \"Data contains missing values\""
   ]
  },
  {
   "cell_type": "markdown",
   "id": "be063a8d",
   "metadata": {
    "id": "be063a8d"
   },
   "source": [
    "Write a small test function that does the same.\n",
    "Run your function on the clean data"
   ]
  },
  {
   "cell_type": "code",
   "execution_count": 7,
   "id": "c53f86a6",
   "metadata": {
    "id": "c53f86a6"
   },
   "outputs": [],
   "source": [
    "def test_clean_data(data):\n",
    "    assert data.isna().sum().sum() == 0, \"Data contains missing values\""
   ]
  },
  {
   "cell_type": "code",
   "execution_count": 8,
   "id": "925d08c6",
   "metadata": {
    "id": "925d08c6"
   },
   "outputs": [],
   "source": [
    "test_clean_data(clean_data)"
   ]
  },
  {
   "cell_type": "markdown",
   "id": "997f4e05",
   "metadata": {
    "id": "997f4e05"
   },
   "source": [
    "Write a second function that checks that the number of columns is"
   ]
  },
  {
   "cell_type": "code",
   "execution_count": 9,
   "id": "a7b63c5e",
   "metadata": {
    "id": "a7b63c5e"
   },
   "outputs": [],
   "source": [
    "def test_number_of_row(data):\n",
    "    assert len(data) == 909, \"Data does not have the expected number of rows\""
   ]
  },
  {
   "cell_type": "markdown",
   "id": "8f5a8155",
   "metadata": {
    "id": "8f5a8155"
   },
   "source": [
    "Create a folder names `tests.`\n",
    "Create a file that contains the two tests.\n",
    "\n",
    "In the next step, you want to run the tests from the root of the folder using the  the command `pytest`.\n",
    "\n",
    "Create a conftest.py. Add a fixture that you can use in your tests.\n",
    "(an example could be to read the file from the data/clean folder)\n",
    "\n",
    "\n",
    "Note:\n",
    "Make sure the file starts with test_*.py or *_test.py"
   ]
  },
  {
   "cell_type": "code",
   "execution_count": 11,
   "id": "9eaa5454",
   "metadata": {
    "colab": {
     "base_uri": "https://localhost:8080/"
    },
    "id": "9eaa5454",
    "outputId": "18a4644a-6626-4570-ef1c-1c7ae4a6f49a"
   },
   "outputs": [
    {
     "name": "stdout",
     "output_type": "stream",
     "text": [
      "/content/RSE_Juelich/day3/reproducible-research-project/data/clean\n",
      "\u001b[32m.\u001b[0m\u001b[32m.\u001b[0m\u001b[32m                                                                       [100%]\u001b[0m\n",
      "\u001b[32m\u001b[32m\u001b[1m2 passed\u001b[0m\u001b[32m in 0.03s\u001b[0m\u001b[0m\n"
     ]
    }
   ],
   "source": [
    "!pwd\n",
    "os.chdir('/content/RSE_Juelich/day3/reproducible-research-project')\n",
    "!pytest --disable-warnings -q"
   ]
  },
  {
   "cell_type": "markdown",
   "id": "mC2uidnP_6iZ",
   "metadata": {
    "id": "mC2uidnP_6iZ"
   },
   "source": [
    "Create a (snake) make file that automates running your tests.\n",
    "\n",
    "1. Create a file `MAKEFILE` in the root of the reproducible-research-project folder (no extension).\n",
    "\n",
    "2. Copy the pytest command in there.\n",
    "\n"
   ]
  },
  {
   "cell_type": "code",
   "execution_count": 12,
   "id": "wF-EWDuYDM3o",
   "metadata": {
    "colab": {
     "base_uri": "https://localhost:8080/"
    },
    "id": "wF-EWDuYDM3o",
    "outputId": "5901520e-375e-40a0-b1e3-991a8c26d736"
   },
   "outputs": [
    {
     "name": "stdout",
     "output_type": "stream",
     "text": [
      "/content/RSE_Juelich/day3/reproducible-research-project\n"
     ]
    }
   ],
   "source": [
    "!pwd"
   ]
  },
  {
   "cell_type": "code",
   "execution_count": 13,
   "id": "gtTd5nPlAChB",
   "metadata": {
    "colab": {
     "base_uri": "https://localhost:8080/"
    },
    "id": "gtTd5nPlAChB",
    "outputId": "fb12b4d6-d842-478a-e222-fb0545ebdecb"
   },
   "outputs": [
    {
     "name": "stdout",
     "output_type": "stream",
     "text": [
      "pytest --maxfail=1 --disable-warnings -q\n",
      "\u001b[32m.\u001b[0m\u001b[32m.\u001b[0m\u001b[32m                                                                       [100%]\u001b[0m\n",
      "\u001b[32m\u001b[32m\u001b[1m2 passed\u001b[0m\u001b[32m in 0.02s\u001b[0m\u001b[0m\n"
     ]
    }
   ],
   "source": [
    "!make test"
   ]
  },
  {
   "cell_type": "markdown",
   "id": "5BLMRFcjHSUZ",
   "metadata": {
    "id": "5BLMRFcjHSUZ"
   },
   "source": [
    "Export your environment variables"
   ]
  },
  {
   "cell_type": "code",
   "execution_count": 14,
   "id": "7863fb67",
   "metadata": {
    "id": "7863fb67"
   },
   "outputs": [],
   "source": [
    "!pip freeze > requirements.txt"
   ]
  },
  {
   "cell_type": "markdown",
   "id": "Ifk7PLZ_JMnH",
   "metadata": {
    "id": "Ifk7PLZ_JMnH"
   },
   "source": [
    "Run the functions in scr."
   ]
  },
  {
   "cell_type": "code",
   "execution_count": 27,
   "id": "5RRD5mTpJR4Z",
   "metadata": {
    "colab": {
     "base_uri": "https://localhost:8080/"
    },
    "id": "5RRD5mTpJR4Z",
    "outputId": "7860d60f-310d-45e0-d630-7b10cf68bb78"
   },
   "outputs": [
    {
     "name": "stdout",
     "output_type": "stream",
     "text": [
      "Cleaned data saved to: /content/RSE_Juelich/day3/reproducible-research-project/data/clean/clean.csv\n"
     ]
    }
   ],
   "source": [
    "import sys\n",
    "sys.path.append('/content/RSE_Juelich/day3/reproducible-research-project/src/')\n",
    "\n",
    "inputfile = '/content/RSE_Juelich/day3/reproducible-research-project/data/raw/student_habits_performance.csv'\n",
    "outputfile = '/content/RSE_Juelich/day3/reproducible-research-project/data/clean/clean.csv'\n",
    "\n",
    "from process_data import clean_data\n",
    "\n",
    "clean_data(inputfile, outputfile)\n",
    "\n"
   ]
  },
  {
   "cell_type": "markdown",
   "id": "Wpv8WYX5Mh05",
   "metadata": {
    "id": "Wpv8WYX5Mh05"
   },
   "source": [
    "Add the execution to the make file"
   ]
  },
  {
   "cell_type": "markdown",
   "id": "JQwdmPm4Mggy",
   "metadata": {
    "id": "JQwdmPm4Mggy"
   },
   "source": []
  },
  {
   "cell_type": "code",
   "execution_count": null,
   "id": "urlysPf8JL9_",
   "metadata": {
    "id": "urlysPf8JL9_"
   },
   "outputs": [],
   "source": []
  },
  {
   "cell_type": "markdown",
   "id": "b2mZxyP7MWCz",
   "metadata": {
    "id": "b2mZxyP7MWCz"
   },
   "source": []
  }
 ],
 "metadata": {
  "colab": {
   "provenance": []
  },
  "kernelspec": {
   "display_name": "RSE_course",
   "language": "python",
   "name": "python3"
  },
  "language_info": {
   "codemirror_mode": {
    "name": "ipython",
    "version": 3
   },
   "file_extension": ".py",
   "mimetype": "text/x-python",
   "name": "python",
   "nbconvert_exporter": "python",
   "pygments_lexer": "ipython3",
   "version": "3.13.2"
  }
 },
 "nbformat": 4,
 "nbformat_minor": 5
}
