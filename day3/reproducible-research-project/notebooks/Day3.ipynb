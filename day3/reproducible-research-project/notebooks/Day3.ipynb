{
  "cells": [
    {
      "cell_type": "code",
      "execution_count": 5,
      "id": "c3347c83",
      "metadata": {
        "colab": {
          "base_uri": "https://localhost:8080/"
        },
        "id": "c3347c83",
        "outputId": "986a08aa-b456-432e-858d-bfebe5326e21"
      },
      "outputs": [
        {
          "output_type": "stream",
          "name": "stdout",
          "text": [
            "Cloning into 'RSE_Juelich'...\n",
            "remote: Enumerating objects: 159, done.\u001b[K\n",
            "remote: Counting objects: 100% (159/159), done.\u001b[K\n",
            "remote: Compressing objects: 100% (116/116), done.\u001b[K\n",
            "remote: Total 159 (delta 59), reused 99 (delta 23), pack-reused 0 (from 0)\u001b[K\n",
            "Receiving objects: 100% (159/159), 87.80 KiB | 3.38 MiB/s, done.\n",
            "Resolving deltas: 100% (59/59), done.\n"
          ]
        }
      ],
      "source": [
        "! git clone https://github.com/likeajumprope/RSE_Juelich.git"
      ]
    },
    {
      "cell_type": "code",
      "source": [
        "# In case you have to delete the cloned repo again, uncomment and run this line\n",
        "!rm -r /content/RSE_Juelich/"
      ],
      "metadata": {
        "id": "Va8vfwoe6kWp"
      },
      "id": "Va8vfwoe6kWp",
      "execution_count": 2,
      "outputs": []
    },
    {
      "cell_type": "code",
      "execution_count": 2,
      "id": "c2113d5e",
      "metadata": {
        "colab": {
          "base_uri": "https://localhost:8080/"
        },
        "id": "c2113d5e",
        "outputId": "d6e3afe5-bb45-4891-962e-0dc10db35c3f"
      },
      "outputs": [
        {
          "output_type": "stream",
          "name": "stdout",
          "text": [
            "/content/RSE_Juelich/day3\n"
          ]
        }
      ],
      "source": [
        "%cd  /content/RSE_Juelich/day3"
      ]
    },
    {
      "cell_type": "code",
      "execution_count": 8,
      "id": "adaeed14",
      "metadata": {
        "colab": {
          "base_uri": "https://localhost:8080/",
          "height": 1000
        },
        "id": "adaeed14",
        "outputId": "f0daf42b-2949-4e57-d9a4-4a4df7b8bcbd"
      },
      "outputs": [
        {
          "output_type": "stream",
          "name": "stdout",
          "text": [
            "Requirement already satisfied: contourpy==1.3.2 in /usr/local/lib/python3.11/dist-packages (from -r requirements.txt (line 1)) (1.3.2)\n",
            "Collecting coverage==7.7.1 (from -r requirements.txt (line 2))\n",
            "  Downloading coverage-7.7.1-cp311-cp311-manylinux_2_5_x86_64.manylinux1_x86_64.manylinux_2_17_x86_64.manylinux2014_x86_64.whl.metadata (8.5 kB)\n",
            "Requirement already satisfied: cycler==0.12.1 in /usr/local/lib/python3.11/dist-packages (from -r requirements.txt (line 3)) (0.12.1)\n",
            "Requirement already satisfied: fonttools==4.57.0 in /usr/local/lib/python3.11/dist-packages (from -r requirements.txt (line 4)) (4.57.0)\n",
            "Requirement already satisfied: iniconfig==2.1.0 in /usr/local/lib/python3.11/dist-packages (from -r requirements.txt (line 5)) (2.1.0)\n",
            "Requirement already satisfied: kiwisolver==1.4.8 in /usr/local/lib/python3.11/dist-packages (from -r requirements.txt (line 6)) (1.4.8)\n",
            "Collecting matplotlib==3.10.1 (from -r requirements.txt (line 7))\n",
            "  Downloading matplotlib-3.10.1-cp311-cp311-manylinux_2_17_x86_64.manylinux2014_x86_64.whl.metadata (11 kB)\n",
            "Collecting numpy==2.2.4 (from -r requirements.txt (line 8))\n",
            "  Downloading numpy-2.2.4-cp311-cp311-manylinux_2_17_x86_64.manylinux2014_x86_64.whl.metadata (62 kB)\n",
            "\u001b[2K     \u001b[90m━━━━━━━━━━━━━━━━━━━━━━━━━━━━━━━━━━━━━━━━\u001b[0m \u001b[32m62.0/62.0 kB\u001b[0m \u001b[31m2.8 MB/s\u001b[0m eta \u001b[36m0:00:00\u001b[0m\n",
            "\u001b[?25hRequirement already satisfied: packaging==24.2 in /usr/local/lib/python3.11/dist-packages (from -r requirements.txt (line 9)) (24.2)\n",
            "Collecting pandas==2.2.3 (from -r requirements.txt (line 10))\n",
            "  Downloading pandas-2.2.3-cp311-cp311-manylinux_2_17_x86_64.manylinux2014_x86_64.whl.metadata (89 kB)\n",
            "\u001b[2K     \u001b[90m━━━━━━━━━━━━━━━━━━━━━━━━━━━━━━━━━━━━━━━━\u001b[0m \u001b[32m89.9/89.9 kB\u001b[0m \u001b[31m5.2 MB/s\u001b[0m eta \u001b[36m0:00:00\u001b[0m\n",
            "\u001b[?25hCollecting pillow==11.2.1 (from -r requirements.txt (line 11))\n",
            "  Downloading pillow-11.2.1-cp311-cp311-manylinux_2_28_x86_64.whl.metadata (8.9 kB)\n",
            "Requirement already satisfied: pluggy==1.5.0 in /usr/local/lib/python3.11/dist-packages (from -r requirements.txt (line 12)) (1.5.0)\n",
            "Requirement already satisfied: pyparsing==3.2.3 in /usr/local/lib/python3.11/dist-packages (from -r requirements.txt (line 13)) (3.2.3)\n",
            "Requirement already satisfied: pytest==8.3.5 in /usr/local/lib/python3.11/dist-packages (from -r requirements.txt (line 14)) (8.3.5)\n",
            "Collecting pytest-cov==6.0.0 (from -r requirements.txt (line 15))\n",
            "  Downloading pytest_cov-6.0.0-py3-none-any.whl.metadata (27 kB)\n",
            "Collecting python-dateutil==2.9.0.post0 (from -r requirements.txt (line 16))\n",
            "  Downloading python_dateutil-2.9.0.post0-py2.py3-none-any.whl.metadata (8.4 kB)\n",
            "Requirement already satisfied: pytz==2025.2 in /usr/local/lib/python3.11/dist-packages (from -r requirements.txt (line 17)) (2025.2)\n",
            "Collecting setuptools==75.8.0 (from -r requirements.txt (line 18))\n",
            "  Downloading setuptools-75.8.0-py3-none-any.whl.metadata (6.7 kB)\n",
            "Requirement already satisfied: six==1.17.0 in /usr/local/lib/python3.11/dist-packages (from -r requirements.txt (line 19)) (1.17.0)\n",
            "Requirement already satisfied: tzdata==2025.2 in /usr/local/lib/python3.11/dist-packages (from -r requirements.txt (line 20)) (2025.2)\n",
            "Requirement already satisfied: wheel==0.45.1 in /usr/local/lib/python3.11/dist-packages (from -r requirements.txt (line 21)) (0.45.1)\n",
            "Downloading coverage-7.7.1-cp311-cp311-manylinux_2_5_x86_64.manylinux1_x86_64.manylinux_2_17_x86_64.manylinux2014_x86_64.whl (243 kB)\n",
            "\u001b[2K   \u001b[90m━━━━━━━━━━━━━━━━━━━━━━━━━━━━━━━━━━━━━━━━\u001b[0m \u001b[32m243.6/243.6 kB\u001b[0m \u001b[31m13.9 MB/s\u001b[0m eta \u001b[36m0:00:00\u001b[0m\n",
            "\u001b[?25hDownloading matplotlib-3.10.1-cp311-cp311-manylinux_2_17_x86_64.manylinux2014_x86_64.whl (8.6 MB)\n",
            "\u001b[2K   \u001b[90m━━━━━━━━━━━━━━━━━━━━━━━━━━━━━━━━━━━━━━━━\u001b[0m \u001b[32m8.6/8.6 MB\u001b[0m \u001b[31m50.4 MB/s\u001b[0m eta \u001b[36m0:00:00\u001b[0m\n",
            "\u001b[?25hDownloading numpy-2.2.4-cp311-cp311-manylinux_2_17_x86_64.manylinux2014_x86_64.whl (16.4 MB)\n",
            "\u001b[2K   \u001b[90m━━━━━━━━━━━━━━━━━━━━━━━━━━━━━━━━━━━━━━━━\u001b[0m \u001b[32m16.4/16.4 MB\u001b[0m \u001b[31m54.4 MB/s\u001b[0m eta \u001b[36m0:00:00\u001b[0m\n",
            "\u001b[?25hDownloading pandas-2.2.3-cp311-cp311-manylinux_2_17_x86_64.manylinux2014_x86_64.whl (13.1 MB)\n",
            "\u001b[2K   \u001b[90m━━━━━━━━━━━━━━━━━━━━━━━━━━━━━━━━━━━━━━━━\u001b[0m \u001b[32m13.1/13.1 MB\u001b[0m \u001b[31m55.7 MB/s\u001b[0m eta \u001b[36m0:00:00\u001b[0m\n",
            "\u001b[?25hDownloading pillow-11.2.1-cp311-cp311-manylinux_2_28_x86_64.whl (4.6 MB)\n",
            "\u001b[2K   \u001b[90m━━━━━━━━━━━━━━━━━━━━━━━━━━━━━━━━━━━━━━━━\u001b[0m \u001b[32m4.6/4.6 MB\u001b[0m \u001b[31m51.4 MB/s\u001b[0m eta \u001b[36m0:00:00\u001b[0m\n",
            "\u001b[?25hDownloading pytest_cov-6.0.0-py3-none-any.whl (22 kB)\n",
            "Downloading python_dateutil-2.9.0.post0-py2.py3-none-any.whl (229 kB)\n",
            "\u001b[2K   \u001b[90m━━━━━━━━━━━━━━━━━━━━━━━━━━━━━━━━━━━━━━━━\u001b[0m \u001b[32m229.9/229.9 kB\u001b[0m \u001b[31m12.0 MB/s\u001b[0m eta \u001b[36m0:00:00\u001b[0m\n",
            "\u001b[?25hDownloading setuptools-75.8.0-py3-none-any.whl (1.2 MB)\n",
            "\u001b[2K   \u001b[90m━━━━━━━━━━━━━━━━━━━━━━━━━━━━━━━━━━━━━━━━\u001b[0m \u001b[32m1.2/1.2 MB\u001b[0m \u001b[31m43.2 MB/s\u001b[0m eta \u001b[36m0:00:00\u001b[0m\n",
            "\u001b[?25hInstalling collected packages: setuptools, python-dateutil, pillow, numpy, coverage, pandas, pytest-cov, matplotlib\n",
            "  Attempting uninstall: setuptools\n",
            "    Found existing installation: setuptools 75.2.0\n",
            "    Uninstalling setuptools-75.2.0:\n",
            "      Successfully uninstalled setuptools-75.2.0\n",
            "  Attempting uninstall: python-dateutil\n",
            "    Found existing installation: python-dateutil 2.8.2\n",
            "    Uninstalling python-dateutil-2.8.2:\n",
            "      Successfully uninstalled python-dateutil-2.8.2\n",
            "  Attempting uninstall: pillow\n",
            "    Found existing installation: pillow 11.1.0\n",
            "    Uninstalling pillow-11.1.0:\n",
            "      Successfully uninstalled pillow-11.1.0\n",
            "  Attempting uninstall: numpy\n",
            "    Found existing installation: numpy 2.0.2\n",
            "    Uninstalling numpy-2.0.2:\n",
            "      Successfully uninstalled numpy-2.0.2\n",
            "  Attempting uninstall: pandas\n",
            "    Found existing installation: pandas 2.2.2\n",
            "    Uninstalling pandas-2.2.2:\n",
            "      Successfully uninstalled pandas-2.2.2\n",
            "  Attempting uninstall: matplotlib\n",
            "    Found existing installation: matplotlib 3.10.0\n",
            "    Uninstalling matplotlib-3.10.0:\n",
            "      Successfully uninstalled matplotlib-3.10.0\n",
            "\u001b[31mERROR: pip's dependency resolver does not currently take into account all the packages that are installed. This behaviour is the source of the following dependency conflicts.\n",
            "ipython 7.34.0 requires jedi>=0.16, which is not installed.\n",
            "google-colab 1.0.0 requires pandas==2.2.2, but you have pandas 2.2.3 which is incompatible.\n",
            "numba 0.60.0 requires numpy<2.1,>=1.22, but you have numpy 2.2.4 which is incompatible.\n",
            "tensorflow 2.18.0 requires numpy<2.1.0,>=1.26.0, but you have numpy 2.2.4 which is incompatible.\u001b[0m\u001b[31m\n",
            "\u001b[0mSuccessfully installed coverage-7.7.1 matplotlib-3.10.1 numpy-2.2.4 pandas-2.2.3 pillow-11.2.1 pytest-cov-6.0.0 python-dateutil-2.9.0.post0 setuptools-75.8.0\n"
          ]
        },
        {
          "output_type": "display_data",
          "data": {
            "application/vnd.colab-display-data+json": {
              "pip_warning": {
                "packages": [
                  "PIL",
                  "_distutils_hack",
                  "dateutil"
                ]
              },
              "id": "3f519f84c5ce47d3ab5568268e557709"
            }
          },
          "metadata": {}
        },
        {
          "output_type": "stream",
          "name": "stdout",
          "text": [
            "Requirement already satisfied: pytest in /usr/local/lib/python3.11/dist-packages (8.3.5)\n",
            "Requirement already satisfied: iniconfig in /usr/local/lib/python3.11/dist-packages (from pytest) (2.1.0)\n",
            "Requirement already satisfied: packaging in /usr/local/lib/python3.11/dist-packages (from pytest) (24.2)\n",
            "Requirement already satisfied: pluggy<2,>=1.5 in /usr/local/lib/python3.11/dist-packages (from pytest) (1.5.0)\n"
          ]
        }
      ],
      "source": [
        "!pip install -r requirements.txt\n",
        "!pip install pytest # install the pytest library"
      ]
    },
    {
      "cell_type": "markdown",
      "id": "6eb395c2",
      "metadata": {
        "id": "6eb395c2"
      },
      "source": [
        "## Write tests\n",
        "\n",
        "First, use the assert statement to assert that the cleaned data has no Nans.\n",
        "\n",
        "Example:\n",
        "load file\n",
        "assert"
      ]
    },
    {
      "cell_type": "code",
      "execution_count": 3,
      "id": "597f1a92",
      "metadata": {
        "colab": {
          "base_uri": "https://localhost:8080/"
        },
        "id": "597f1a92",
        "outputId": "b4013712-57a5-45d9-d2df-e28d2a6bfe02"
      },
      "outputs": [
        {
          "output_type": "stream",
          "name": "stdout",
          "text": [
            "/content/RSE_Juelich/day3\n"
          ]
        }
      ],
      "source": [
        "!pwd"
      ]
    },
    {
      "cell_type": "markdown",
      "id": "315b0ef3",
      "metadata": {
        "id": "315b0ef3"
      },
      "source": []
    },
    {
      "cell_type": "code",
      "execution_count": 4,
      "id": "fdc2bb15",
      "metadata": {
        "id": "fdc2bb15"
      },
      "outputs": [],
      "source": [
        "import os\n",
        "import pandas as pd"
      ]
    },
    {
      "cell_type": "code",
      "execution_count": 5,
      "id": "6d2f2bf5",
      "metadata": {
        "id": "6d2f2bf5",
        "colab": {
          "base_uri": "https://localhost:8080/"
        },
        "outputId": "ad9579db-aa0a-48e7-9819-1e40639cd2e8"
      },
      "outputs": [
        {
          "output_type": "execute_result",
          "data": {
            "text/plain": [
              "909"
            ]
          },
          "metadata": {},
          "execution_count": 5
        }
      ],
      "source": [
        "os.chdir('/content/RSE_Juelich/day3/reproducible-research-project/data/clean')\n",
        "clean_data = pd.read_csv('clean.csv')\n",
        "len(clean_data)"
      ]
    },
    {
      "cell_type": "code",
      "execution_count": 6,
      "id": "75a2ca9b",
      "metadata": {
        "id": "75a2ca9b"
      },
      "outputs": [],
      "source": [
        "assert clean_data.isna().sum().sum() == 0, \"Data contains missing values\""
      ]
    },
    {
      "cell_type": "markdown",
      "id": "be063a8d",
      "metadata": {
        "id": "be063a8d"
      },
      "source": [
        "Write a small test function that does the same.\n",
        "Run your function on the clean data"
      ]
    },
    {
      "cell_type": "code",
      "execution_count": 7,
      "id": "c53f86a6",
      "metadata": {
        "id": "c53f86a6"
      },
      "outputs": [],
      "source": [
        "def test_clean_data(data):\n",
        "    assert data.isna().sum().sum() == 0, \"Data contains missing values\""
      ]
    },
    {
      "cell_type": "code",
      "execution_count": 8,
      "id": "925d08c6",
      "metadata": {
        "id": "925d08c6"
      },
      "outputs": [],
      "source": [
        "test_clean_data(clean_data)"
      ]
    },
    {
      "cell_type": "markdown",
      "id": "997f4e05",
      "metadata": {
        "id": "997f4e05"
      },
      "source": [
        "Write a second function that checks that the number of columns is"
      ]
    },
    {
      "cell_type": "code",
      "execution_count": 9,
      "id": "a7b63c5e",
      "metadata": {
        "id": "a7b63c5e"
      },
      "outputs": [],
      "source": [
        "def test_number_of_row(data):\n",
        "    assert len(data) == 909, \"Data does not have the expected number of rows\""
      ]
    },
    {
      "cell_type": "markdown",
      "id": "8f5a8155",
      "metadata": {
        "id": "8f5a8155"
      },
      "source": [
        "Create a folder names `tests.`\n",
        "Create a file that contains the two tests.\n",
        "\n",
        "In the next step, you want to run the tests from the root of the folder using the  the command `pytest`.\n",
        "\n",
        "Create a conftest.py. Add a fixture that you can use in your tests.\n",
        "(an example could be to read the file from the data/clean folder)\n",
        "\n",
        "\n",
        "Note:\n",
        "Make sure the file starts with test_*.py or *_test.py"
      ]
    },
    {
      "cell_type": "code",
      "execution_count": 11,
      "id": "9eaa5454",
      "metadata": {
        "colab": {
          "base_uri": "https://localhost:8080/"
        },
        "id": "9eaa5454",
        "outputId": "b358df0e-a375-4b55-f663-907e72e88106"
      },
      "outputs": [
        {
          "output_type": "stream",
          "name": "stdout",
          "text": [
            "/content/RSE_Juelich/day3/reproducible-research-project\n",
            "\u001b[32m.\u001b[0m\u001b[32m.\u001b[0m\u001b[32m                                                                       [100%]\u001b[0m\n",
            "\u001b[32m\u001b[32m\u001b[1m2 passed\u001b[0m\u001b[32m in 0.02s\u001b[0m\u001b[0m\n"
          ]
        }
      ],
      "source": [
        "!pwd\n",
        "os.chdir('/content/RSE_Juelich/day3/reproducible-research-project')\n",
        "!pytest --disable-warnings -q"
      ]
    },
    {
      "cell_type": "markdown",
      "source": [
        "Create a (snake) make file that automates running your tests.\n",
        "\n",
        "1. Create a file `MAKEFILE` in the root of the reproducible-research-project folder (no extension).\n",
        "\n",
        "2. Copy the pytest command in there.\n",
        "\n"
      ],
      "metadata": {
        "id": "mC2uidnP_6iZ"
      },
      "id": "mC2uidnP_6iZ"
    },
    {
      "cell_type": "code",
      "source": [
        "!pwd"
      ],
      "metadata": {
        "colab": {
          "base_uri": "https://localhost:8080/"
        },
        "id": "wF-EWDuYDM3o",
        "outputId": "ddfbed26-1a88-4495-f9e1-1e17b000e16a"
      },
      "id": "wF-EWDuYDM3o",
      "execution_count": 14,
      "outputs": [
        {
          "output_type": "stream",
          "name": "stdout",
          "text": [
            "/content/RSE_Juelich/day3/reproducible-research-project\n"
          ]
        }
      ]
    },
    {
      "cell_type": "code",
      "source": [
        "!make test"
      ],
      "metadata": {
        "colab": {
          "base_uri": "https://localhost:8080/"
        },
        "id": "gtTd5nPlAChB",
        "outputId": "6965babf-37b8-4f3b-fed2-e85c15834792"
      },
      "id": "gtTd5nPlAChB",
      "execution_count": 18,
      "outputs": [
        {
          "output_type": "stream",
          "name": "stdout",
          "text": [
            "Makefile:2: *** missing separator.  Stop.\n"
          ]
        }
      ]
    },
    {
      "cell_type": "code",
      "execution_count": null,
      "id": "7863fb67",
      "metadata": {
        "id": "7863fb67"
      },
      "outputs": [],
      "source": []
    }
  ],
  "metadata": {
    "colab": {
      "provenance": []
    },
    "kernelspec": {
      "display_name": "RSE_course",
      "language": "python",
      "name": "python3"
    },
    "language_info": {
      "codemirror_mode": {
        "name": "ipython",
        "version": 3
      },
      "file_extension": ".py",
      "mimetype": "text/x-python",
      "name": "python",
      "nbconvert_exporter": "python",
      "pygments_lexer": "ipython3",
      "version": "3.13.2"
    }
  },
  "nbformat": 4,
  "nbformat_minor": 5
}