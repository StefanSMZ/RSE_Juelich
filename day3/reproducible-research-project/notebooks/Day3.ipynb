{
  "cells": [
    {
      "cell_type": "code",
      "execution_count": 1,
      "id": "c3347c83",
      "metadata": {
        "id": "c3347c83",
        "outputId": "af3dcfc3-81cb-44c3-9712-65635b100ef7",
        "colab": {
          "base_uri": "https://localhost:8080/"
        }
      },
      "outputs": [
        {
          "output_type": "stream",
          "name": "stdout",
          "text": [
            "Cloning into 'RSE_Juelich'...\n",
            "remote: Enumerating objects: 104, done.\u001b[K\n",
            "remote: Counting objects: 100% (104/104), done.\u001b[K\n",
            "remote: Compressing objects: 100% (74/74), done.\u001b[K\n",
            "remote: Total 104 (delta 26), reused 67 (delta 12), pack-reused 0 (from 0)\u001b[K\n",
            "Receiving objects: 100% (104/104), 81.24 KiB | 1.33 MiB/s, done.\n",
            "Resolving deltas: 100% (26/26), done.\n"
          ]
        }
      ],
      "source": [
        "! git clone https://github.com/likeajumprope/RSE_Juelich.git"
      ]
    },
    {
      "cell_type": "code",
      "execution_count": 2,
      "id": "adaeed14",
      "metadata": {
        "id": "adaeed14",
        "outputId": "d3ca03a6-a475-4b53-dade-2c2599319e5e",
        "colab": {
          "base_uri": "https://localhost:8080/"
        }
      },
      "outputs": [
        {
          "output_type": "stream",
          "name": "stdout",
          "text": [
            "\u001b[31mERROR: Could not open requirements file: [Errno 2] No such file or directory: 'requirements.txt'\u001b[0m\u001b[31m\n",
            "\u001b[0mRequirement already satisfied: pytest in /usr/local/lib/python3.11/dist-packages (8.3.5)\n",
            "Requirement already satisfied: iniconfig in /usr/local/lib/python3.11/dist-packages (from pytest) (2.1.0)\n",
            "Requirement already satisfied: packaging in /usr/local/lib/python3.11/dist-packages (from pytest) (24.2)\n",
            "Requirement already satisfied: pluggy<2,>=1.5 in /usr/local/lib/python3.11/dist-packages (from pytest) (1.5.0)\n"
          ]
        }
      ],
      "source": [
        "!pip install -r requirements.txt\n",
        "!pip install pytest # install the pytest library"
      ]
    },
    {
      "cell_type": "code",
      "execution_count": 3,
      "id": "c2113d5e",
      "metadata": {
        "id": "c2113d5e",
        "outputId": "33cf4f11-6588-41fb-a251-5aff9e2e9421",
        "colab": {
          "base_uri": "https://localhost:8080/"
        }
      },
      "outputs": [
        {
          "output_type": "stream",
          "name": "stdout",
          "text": [
            "/content/RSE_Juelich/day3\n"
          ]
        }
      ],
      "source": [
        "%cd  /content/RSE_Juelich/day3"
      ]
    },
    {
      "cell_type": "markdown",
      "id": "6eb395c2",
      "metadata": {
        "id": "6eb395c2"
      },
      "source": [
        "## Write tests\n",
        "\n",
        "First, use the assert statement to assert that the cleaned data has no Nans.\n",
        "\n",
        "Example:\n",
        "load file\n",
        "assert"
      ]
    },
    {
      "cell_type": "code",
      "execution_count": 4,
      "id": "597f1a92",
      "metadata": {
        "id": "597f1a92",
        "outputId": "bee0a03b-119a-4d9c-abe9-afee95978fbc",
        "colab": {
          "base_uri": "https://localhost:8080/"
        }
      },
      "outputs": [
        {
          "output_type": "stream",
          "name": "stdout",
          "text": [
            "/content/RSE_Juelich/day3\n"
          ]
        }
      ],
      "source": [
        "!pwd"
      ]
    },
    {
      "cell_type": "markdown",
      "id": "315b0ef3",
      "metadata": {
        "id": "315b0ef3"
      },
      "source": []
    },
    {
      "cell_type": "code",
      "execution_count": 5,
      "id": "fdc2bb15",
      "metadata": {
        "id": "fdc2bb15"
      },
      "outputs": [],
      "source": [
        "import os\n",
        "import pandas as pd"
      ]
    },
    {
      "cell_type": "code",
      "execution_count": 7,
      "id": "6d2f2bf5",
      "metadata": {
        "id": "6d2f2bf5"
      },
      "outputs": [],
      "source": [
        "os.chdir('/content/RSE_Juelich/day3/reproducible-research-project/data/clean')\n",
        "clean_data = pd.read_csv('clean.csv')"
      ]
    },
    {
      "cell_type": "code",
      "execution_count": 8,
      "id": "75a2ca9b",
      "metadata": {
        "id": "75a2ca9b"
      },
      "outputs": [],
      "source": [
        "assert clean_data.isna().sum().sum() == 0, \"Data contains missing values\""
      ]
    },
    {
      "cell_type": "markdown",
      "id": "be063a8d",
      "metadata": {
        "id": "be063a8d"
      },
      "source": [
        "Write a small test function that does the same.\n",
        "Run your function on the clean data"
      ]
    },
    {
      "cell_type": "code",
      "execution_count": null,
      "id": "c53f86a6",
      "metadata": {
        "id": "c53f86a6"
      },
      "outputs": [],
      "source": [
        "#def test_clean_data(data):\n",
        "    #assert data.isna().sum().sum() == 0, \"Data contains missing values\""
      ]
    },
    {
      "cell_type": "code",
      "execution_count": null,
      "id": "925d08c6",
      "metadata": {
        "id": "925d08c6"
      },
      "outputs": [],
      "source": [
        "test_clean_data(clean_data)"
      ]
    },
    {
      "cell_type": "markdown",
      "id": "997f4e05",
      "metadata": {
        "id": "997f4e05"
      },
      "source": [
        "Write a second function that checks that the number of columns is"
      ]
    },
    {
      "cell_type": "code",
      "execution_count": null,
      "id": "a7b63c5e",
      "metadata": {
        "id": "a7b63c5e"
      },
      "outputs": [],
      "source": [
        "#def test_number_of_row(data):\n",
        "   # assert len(data) == 1000, \"Data does not have the expected number of rows\""
      ]
    },
    {
      "cell_type": "markdown",
      "id": "8f5a8155",
      "metadata": {
        "id": "8f5a8155"
      },
      "source": [
        "Create a folder names `tests.`\n",
        "Create a file that contains the two tests.\n",
        "Run the tests from the root of the directory using the command `pytest`\n",
        "\n",
        "\n",
        "Note:\n",
        "Make sure the file starts with test_*.py or *_test.py"
      ]
    },
    {
      "cell_type": "code",
      "execution_count": 9,
      "id": "9eaa5454",
      "metadata": {
        "colab": {
          "base_uri": "https://localhost:8080/"
        },
        "id": "9eaa5454",
        "outputId": "a7367326-6667-4b55-ef91-fd94cb99d2f6"
      },
      "outputs": [
        {
          "output_type": "stream",
          "name": "stdout",
          "text": [
            "/content/RSE_Juelich/day3/reproducible-research-project/data/clean\n",
            "\u001b[31mE\u001b[0m\n",
            "==================================== ERRORS ====================================\n",
            "\u001b[31m\u001b[1m______________________ ERROR at setup of test_clean_data _______________________\u001b[0m\n",
            "file /content/RSE_Juelich/day3/reproducible-research-project/tests/data_test.py, line 1\n",
            "  def test_clean_data(data):\n",
            "\u001b[31mE       fixture 'data' not found\u001b[0m\n",
            "\u001b[31m>       available fixtures: anyio_backend, anyio_backend_name, anyio_backend_options, cache, capfd, capfdbinary, caplog, capsys, capsysbinary, doctest_namespace, free_tcp_port, free_tcp_port_factory, free_udp_port, free_udp_port_factory, monkeypatch, pytestconfig, record_property, record_testsuite_property, record_xml_attribute, recwarn, tmp_path, tmp_path_factory, tmpdir, tmpdir_factory\u001b[0m\n",
            "\u001b[31m>       use 'pytest --fixtures [testpath]' for help on them.\u001b[0m\n",
            "\n",
            "/content/RSE_Juelich/day3/reproducible-research-project/tests/data_test.py:1\n",
            "\u001b[36m\u001b[1m=========================== short test summary info ============================\u001b[0m\n",
            "\u001b[31mERROR\u001b[0m tests/data_test.py::\u001b[1mtest_clean_data\u001b[0m\n",
            "\u001b[31m!!!!!!!!!!!!!!!!!!!!!!!!!! stopping after 1 failures !!!!!!!!!!!!!!!!!!!!!!!!!!!\u001b[0m\n",
            "\u001b[31m\u001b[31m\u001b[1m1 error\u001b[0m\u001b[31m in 0.02s\u001b[0m\u001b[0m\n"
          ]
        }
      ],
      "source": [
        "!pwd\n",
        "os.chdir('/content/RSE_Juelich/day3/reproducible-research-project')\n",
        "!pytest --maxfail=1 --disable-warnings -q"
      ]
    },
    {
      "cell_type": "code",
      "execution_count": null,
      "id": "7863fb67",
      "metadata": {
        "id": "7863fb67"
      },
      "outputs": [],
      "source": []
    }
  ],
  "metadata": {
    "kernelspec": {
      "display_name": "RSE_course",
      "language": "python",
      "name": "python3"
    },
    "language_info": {
      "codemirror_mode": {
        "name": "ipython",
        "version": 3
      },
      "file_extension": ".py",
      "mimetype": "text/x-python",
      "name": "python",
      "nbconvert_exporter": "python",
      "pygments_lexer": "ipython3",
      "version": "3.13.2"
    },
    "colab": {
      "provenance": []
    }
  },
  "nbformat": 4,
  "nbformat_minor": 5
}