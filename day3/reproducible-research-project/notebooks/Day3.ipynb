{
 "cells": [
  {
   "cell_type": "code",
   "execution_count": null,
   "id": "c3347c83",
   "metadata": {},
   "outputs": [],
   "source": [
    "! git clone https://github.com/likeajumprope/RSE_Juelich.git"
   ]
  },
  {
   "cell_type": "code",
   "execution_count": null,
   "id": "adaeed14",
   "metadata": {},
   "outputs": [],
   "source": [
    "!pip install -r requirements.txt\n",
    "!pip install pytest # install the pytest library"
   ]
  },
  {
   "cell_type": "code",
   "execution_count": null,
   "id": "c2113d5e",
   "metadata": {},
   "outputs": [],
   "source": [
    "%cd  /content/RSE_Juelich/day3"
   ]
  },
  {
   "cell_type": "markdown",
   "id": "6eb395c2",
   "metadata": {},
   "source": [
    "## Write tests\n",
    "\n",
    "First, use the assert statement to assert that the cleaned data has no Nans.\n",
    "\n",
    "Example: \n",
    "load file\n",
    "assert "
   ]
  },
  {
   "cell_type": "code",
   "execution_count": 7,
   "id": "597f1a92",
   "metadata": {},
   "outputs": [
    {
     "name": "stdout",
     "output_type": "stream",
     "text": [
      "/Users/johannabayer/Dropbox/RSE_course/RSE_Juelich/day3/reproducible-research-project/notebooks\n"
     ]
    }
   ],
   "source": [
    "!pwd"
   ]
  },
  {
   "cell_type": "markdown",
   "id": "315b0ef3",
   "metadata": {},
   "source": []
  },
  {
   "cell_type": "code",
   "execution_count": 8,
   "id": "fdc2bb15",
   "metadata": {},
   "outputs": [],
   "source": [
    "import os\n",
    "import pandas as pd"
   ]
  },
  {
   "cell_type": "code",
   "execution_count": 9,
   "id": "6d2f2bf5",
   "metadata": {},
   "outputs": [
    {
     "ename": "FileNotFoundError",
     "evalue": "[Errno 2] No such file or directory: '/content/RSE_Juelich/day3/reproducible-research-project/data/clean'",
     "output_type": "error",
     "traceback": [
      "\u001b[31m---------------------------------------------------------------------------\u001b[39m",
      "\u001b[31mFileNotFoundError\u001b[39m                         Traceback (most recent call last)",
      "\u001b[36mCell\u001b[39m\u001b[36m \u001b[39m\u001b[32mIn[9]\u001b[39m\u001b[32m, line 1\u001b[39m\n\u001b[32m----> \u001b[39m\u001b[32m1\u001b[39m \u001b[43mos\u001b[49m\u001b[43m.\u001b[49m\u001b[43mchdir\u001b[49m\u001b[43m(\u001b[49m\u001b[33;43m'\u001b[39;49m\u001b[33;43m/content/RSE_Juelich/day3/reproducible-research-project/data/clean\u001b[39;49m\u001b[33;43m'\u001b[39;49m\u001b[43m)\u001b[49m\n\u001b[32m      2\u001b[39m clean_data = pd.read_csv(\u001b[33m'\u001b[39m\u001b[33mclean_data.csv\u001b[39m\u001b[33m'\u001b[39m)\n",
      "\u001b[31mFileNotFoundError\u001b[39m: [Errno 2] No such file or directory: '/content/RSE_Juelich/day3/reproducible-research-project/data/clean'"
     ]
    }
   ],
   "source": [
    "os.chdir('/content/RSE_Juelich/day3/reproducible-research-project/data/clean')\n",
    "clean_data = pd.read_csv('clean_data.csv')"
   ]
  },
  {
   "cell_type": "code",
   "execution_count": null,
   "id": "75a2ca9b",
   "metadata": {},
   "outputs": [
    {
     "ename": "NameError",
     "evalue": "name 'clean_data' is not defined",
     "output_type": "error",
     "traceback": [
      "\u001b[31m---------------------------------------------------------------------------\u001b[39m",
      "\u001b[31mNameError\u001b[39m                                 Traceback (most recent call last)",
      "\u001b[36mCell\u001b[39m\u001b[36m \u001b[39m\u001b[32mIn[6]\u001b[39m\u001b[32m, line 1\u001b[39m\n\u001b[32m----> \u001b[39m\u001b[32m1\u001b[39m \u001b[38;5;28;01massert\u001b[39;00m \u001b[43mclean_data\u001b[49m.isna().sum().sum() == \u001b[32m0\u001b[39m, \u001b[33m\"\u001b[39m\u001b[33mData contains missing values\u001b[39m\u001b[33m\"\u001b[39m\n",
      "\u001b[31mNameError\u001b[39m: name 'clean_data' is not defined"
     ]
    }
   ],
   "source": [
    "assert clean_data.isna().sum().sum() == 0, \"Data contains missing values\""
   ]
  },
  {
   "cell_type": "markdown",
   "id": "be063a8d",
   "metadata": {},
   "source": [
    "Write a small test function that does the same. \n",
    "Run your function on the clean data"
   ]
  },
  {
   "cell_type": "code",
   "execution_count": null,
   "id": "c53f86a6",
   "metadata": {},
   "outputs": [],
   "source": [
    "#def test_clean_data(data):\n",
    "    #assert data.isna().sum().sum() == 0, \"Data contains missing values\""
   ]
  },
  {
   "cell_type": "code",
   "execution_count": null,
   "id": "925d08c6",
   "metadata": {},
   "outputs": [],
   "source": [
    "test_clean_data(clean_data)"
   ]
  },
  {
   "cell_type": "markdown",
   "id": "997f4e05",
   "metadata": {},
   "source": [
    "Write a second function that checks that the number of columns is "
   ]
  },
  {
   "cell_type": "code",
   "execution_count": null,
   "id": "a7b63c5e",
   "metadata": {},
   "outputs": [],
   "source": [
    "#def test_number_of_row(data):\n",
    "   # assert len(data) == 1000, \"Data does not have the expected number of rows\""
   ]
  },
  {
   "cell_type": "markdown",
   "id": "8f5a8155",
   "metadata": {},
   "source": [
    "Create a folder names `tests.`\n",
    "Create a file that contains the two tests.\n",
    "Run the tests from the root of the directory using the command `pytest`\n",
    "\n",
    "\n",
    "Note:\n",
    "Make sure the file starts with test_*.py or *_test.py"
   ]
  },
  {
   "cell_type": "code",
   "execution_count": null,
   "id": "9eaa5454",
   "metadata": {},
   "outputs": [
    {
     "name": "stdout",
     "output_type": "stream",
     "text": [
      "/Users/johannabayer/Dropbox/RSE_course/RSE_Juelich/day3/reproducible-research-project/notebooks\n"
     ]
    },
    {
     "name": "stderr",
     "output_type": "stream",
     "text": [
      "UsageError: Line magic function `%cd..` not found.\n"
     ]
    }
   ],
   "source": [
    "!pwd\n",
    "os.chdir('/content/RSE_Juelich/day3/reproducible-research-project')\n",
    "!pytest --maxfail=1 --disable-warnings -q"
   ]
  },
  {
   "cell_type": "code",
   "execution_count": null,
   "id": "7863fb67",
   "metadata": {},
   "outputs": [],
   "source": []
  }
 ],
 "metadata": {
  "kernelspec": {
   "display_name": "RSE_course",
   "language": "python",
   "name": "python3"
  },
  "language_info": {
   "codemirror_mode": {
    "name": "ipython",
    "version": 3
   },
   "file_extension": ".py",
   "mimetype": "text/x-python",
   "name": "python",
   "nbconvert_exporter": "python",
   "pygments_lexer": "ipython3",
   "version": "3.13.2"
  }
 },
 "nbformat": 4,
 "nbformat_minor": 5
}
