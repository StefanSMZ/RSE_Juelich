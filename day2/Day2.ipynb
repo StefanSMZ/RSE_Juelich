{
 "cells": [
  {
   "cell_type": "code",
   "execution_count": null,
   "id": "c3347c83",
   "metadata": {
    "vscode": {
     "languageId": "plaintext"
    }
   },
   "outputs": [],
   "source": [
    "#! git@github.com:likeajumprope/RSE_Juelich.git"
   ]
  },
  {
   "cell_type": "code",
   "execution_count": null,
   "id": "c2113d5e",
   "metadata": {
    "vscode": {
     "languageId": "plaintext"
    }
   },
   "outputs": [],
   "source": [
    "! cd day2"
   ]
  },
  {
   "cell_type": "code",
   "execution_count": null,
   "id": "519a0f0c",
   "metadata": {
    "vscode": {
     "languageId": "plaintext"
    }
   },
   "outputs": [],
   "source": [
    "!pip install -r requirements.txt"
   ]
  },
  {
   "cell_type": "code",
   "execution_count": null,
   "id": "6eb395c2",
   "metadata": {
    "vscode": {
     "languageId": "plaintext"
    }
   },
   "outputs": [],
   "source": []
  }
 ],
 "metadata": {
  "language_info": {
   "name": "python"
  }
 },
 "nbformat": 4,
 "nbformat_minor": 5
}
