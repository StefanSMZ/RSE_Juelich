{
  "cells": [
    {
      "cell_type": "markdown",
      "id": "05a33c4c",
      "metadata": {
        "id": "05a33c4c",
        "vscode": {
          "languageId": "plaintext"
        }
      },
      "source": [
        "# Welcome to day 2!\n",
        "Today you will practice what you have learned yesterday and today."
      ]
    },
    {
      "cell_type": "code",
      "execution_count": null,
      "id": "c3347c83",
      "metadata": {
        "id": "c3347c83",
        "vscode": {
          "languageId": "plaintext"
        }
      },
      "outputs": [],
      "source": [
        "# Let's clone the repository\n",
        "! git clone https://github.com/likeajumprope/RSE_Juelich.git"
      ]
    },
    {
      "cell_type": "code",
      "execution_count": 1,
      "id": "c2113d5e",
      "metadata": {
        "colab": {
          "base_uri": "https://localhost:8080/"
        },
        "id": "c2113d5e",
        "outputId": "fcb55ebb-e8fc-4692-d138-15a2bfc5446a",
        "vscode": {
          "languageId": "plaintext"
        }
      },
      "outputs": [
        {
          "name": "stdout",
          "output_type": "stream",
          "text": [
            "/content/RSE_Juelich/day2\n"
          ]
        }
      ],
      "source": [
        "# Let's move into day 2\n",
        "%cd  /content/RSE_Juelich/day2"
      ]
    },
    {
      "cell_type": "code",
      "execution_count": 4,
      "id": "ba62ba06",
      "metadata": {
        "id": "ba62ba06",
        "vscode": {
          "languageId": "plaintext"
        }
      },
      "outputs": [],
      "source": [
        "# You can delete the repository again via:\n",
        "! rm -r /content/RSE_Juelich/day2/RSE_Juelich/"
      ]
    },
    {
      "cell_type": "markdown",
      "id": "519a0f0c",
      "metadata": {
        "id": "519a0f0c",
        "vscode": {
          "languageId": "bat"
        }
      },
      "source": [
        "# Let's install the requirements\n"
      ]
    },
    {
      "cell_type": "code",
      "execution_count": 2,
      "id": "fd60cf37",
      "metadata": {
        "colab": {
          "base_uri": "https://localhost:8080/"
        },
        "id": "fd60cf37",
        "outputId": "59f17e80-0443-4a24-c228-feefbb8848cf"
      },
      "outputs": [
        {
          "name": "stdout",
          "output_type": "stream",
          "text": [
            "Requirement already satisfied: contourpy==1.3.2 in /usr/local/lib/python3.11/dist-packages (from -r requirements.txt (line 1)) (1.3.2)\n",
            "Requirement already satisfied: coverage==7.7.1 in /usr/local/lib/python3.11/dist-packages (from -r requirements.txt (line 2)) (7.7.1)\n",
            "Requirement already satisfied: cycler==0.12.1 in /usr/local/lib/python3.11/dist-packages (from -r requirements.txt (line 3)) (0.12.1)\n",
            "Requirement already satisfied: fonttools==4.57.0 in /usr/local/lib/python3.11/dist-packages (from -r requirements.txt (line 4)) (4.57.0)\n",
            "Requirement already satisfied: iniconfig==2.1.0 in /usr/local/lib/python3.11/dist-packages (from -r requirements.txt (line 5)) (2.1.0)\n",
            "Requirement already satisfied: kiwisolver==1.4.8 in /usr/local/lib/python3.11/dist-packages (from -r requirements.txt (line 6)) (1.4.8)\n",
            "Requirement already satisfied: matplotlib==3.10.1 in /usr/local/lib/python3.11/dist-packages (from -r requirements.txt (line 7)) (3.10.1)\n",
            "Requirement already satisfied: numpy==2.2.4 in /usr/local/lib/python3.11/dist-packages (from -r requirements.txt (line 8)) (2.2.4)\n",
            "Requirement already satisfied: packaging==24.2 in /usr/local/lib/python3.11/dist-packages (from -r requirements.txt (line 9)) (24.2)\n",
            "Requirement already satisfied: pandas==2.2.3 in /usr/local/lib/python3.11/dist-packages (from -r requirements.txt (line 10)) (2.2.3)\n",
            "Requirement already satisfied: pillow==11.2.1 in /usr/local/lib/python3.11/dist-packages (from -r requirements.txt (line 11)) (11.2.1)\n",
            "Requirement already satisfied: pluggy==1.5.0 in /usr/local/lib/python3.11/dist-packages (from -r requirements.txt (line 12)) (1.5.0)\n",
            "Requirement already satisfied: pyparsing==3.2.3 in /usr/local/lib/python3.11/dist-packages (from -r requirements.txt (line 13)) (3.2.3)\n",
            "Requirement already satisfied: pytest==8.3.5 in /usr/local/lib/python3.11/dist-packages (from -r requirements.txt (line 14)) (8.3.5)\n",
            "Requirement already satisfied: pytest-cov==6.0.0 in /usr/local/lib/python3.11/dist-packages (from -r requirements.txt (line 15)) (6.0.0)\n",
            "Requirement already satisfied: python-dateutil==2.9.0.post0 in /usr/local/lib/python3.11/dist-packages (from -r requirements.txt (line 16)) (2.9.0.post0)\n",
            "Requirement already satisfied: pytz==2025.2 in /usr/local/lib/python3.11/dist-packages (from -r requirements.txt (line 17)) (2025.2)\n",
            "Requirement already satisfied: setuptools==75.8.0 in /usr/local/lib/python3.11/dist-packages (from -r requirements.txt (line 18)) (75.8.0)\n",
            "Requirement already satisfied: six==1.17.0 in /usr/local/lib/python3.11/dist-packages (from -r requirements.txt (line 19)) (1.17.0)\n",
            "Requirement already satisfied: tzdata==2025.2 in /usr/local/lib/python3.11/dist-packages (from -r requirements.txt (line 20)) (2025.2)\n",
            "Requirement already satisfied: wheel==0.45.1 in /usr/local/lib/python3.11/dist-packages (from -r requirements.txt (line 21)) (0.45.1)\n"
          ]
        }
      ],
      "source": [
        "!pip install -r requirements.txt"
      ]
    },
    {
      "cell_type": "code",
      "execution_count": null,
      "id": "5a2a3174",
      "metadata": {},
      "outputs": [],
      "source": [
        "# These are some parameters for the notebook\n",
        "import sys\n",
        "sys.path.append('/content/RSE_Juelich/day2')\n",
        "%load_ext autoreload\n",
        "%autoreload 2\n",
        "%matplotlib inline"
      ]
    },
    {
      "cell_type": "code",
      "execution_count": null,
      "id": "c5d8b138",
      "metadata": {
        "id": "c5d8b138"
      },
      "outputs": [],
      "source": [
        "# TODO Practice git commands"
      ]
    },
    {
      "cell_type": "code",
      "execution_count": null,
      "id": "5d054484",
      "metadata": {
        "id": "5d054484"
      },
      "outputs": [],
      "source": [
        "# TODO Write function that cleans the data\n",
        "# def clean_data(data):"
      ]
    },
    {
      "cell_type": "code",
      "execution_count": null,
      "id": "3205b9ac",
      "metadata": {
        "id": "3205b9ac"
      },
      "outputs": [],
      "source": [
        "#TODO: Write a function that plots the data\n",
        "# def plot_data(data):"
      ]
    },
    {
      "cell_type": "code",
      "execution_count": null,
      "id": "6eb395c2",
      "metadata": {
        "id": "6eb395c2"
      },
      "outputs": [],
      "source": [
        "# TODO: Place the functions in separate files in the src folder\n",
        "# add an empty __init__.py file to the src folder (__ is a double underscore). This makes it a package\n",
        "# import them for example by from src.data_cleaning import clean_data\n",
        "# RUN them here, for example by calling ! python2 clean_data(input, output)"
      ]
    },
    {
      "cell_type": "markdown",
      "id": "4ba94d71",
      "metadata": {},
      "source": [
        "Create a makefile"
      ]
    },
    {
      "cell_type": "markdown",
      "id": "315b0ef3",
      "metadata": {
        "id": "315b0ef3"
      },
      "source": []
    }
  ],
  "metadata": {
    "colab": {
      "provenance": []
    },
    "kernelspec": {
      "display_name": "Python 3",
      "name": "python3"
    },
    "language_info": {
      "name": "python"
    }
  },
  "nbformat": 4,
  "nbformat_minor": 5
}
