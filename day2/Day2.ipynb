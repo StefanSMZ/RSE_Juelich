{
 "cells": [
  {
   "cell_type": "markdown",
   "id": "05a33c4c",
   "metadata": {
    "vscode": {
     "languageId": "plaintext"
    }
   },
   "source": [
    "# Welcome to day 2!\n",
    "Today you will practice what you have learned yesterday and today."
   ]
  },
  {
   "cell_type": "code",
   "execution_count": null,
   "id": "c3347c83",
   "metadata": {
    "vscode": {
     "languageId": "plaintext"
    }
   },
   "outputs": [],
   "source": [
    "# Let's clone the repository \n",
    "! git clone https://github.com/likeajumprope/RSE_Juelich.git"
   ]
  },
  {
   "cell_type": "code",
   "execution_count": null,
   "id": "c2113d5e",
   "metadata": {
    "vscode": {
     "languageId": "plaintext"
    }
   },
   "outputs": [],
   "source": [
    "# Let's move into day 2\n",
    "%cd  /content/RSE_Juelich/day2"
   ]
  },
  {
   "cell_type": "markdown",
   "id": "519a0f0c",
   "metadata": {
    "vscode": {
     "languageId": "bat"
    }
   },
   "source": [
    "# Let's install the requirements\n",
    "!pip install -r requirements.txt"
   ]
  },
  {
   "cell_type": "code",
   "execution_count": null,
   "id": "c5d8b138",
   "metadata": {},
   "outputs": [],
   "source": [
    "# TODO Practice git commands"
   ]
  },
  {
   "cell_type": "code",
   "execution_count": null,
   "id": "5d054484",
   "metadata": {},
   "outputs": [],
   "source": [
    "# TODO Write function that cleans the data\n",
    "# def clean_data(data):"
   ]
  },
  {
   "cell_type": "code",
   "execution_count": null,
   "id": "3205b9ac",
   "metadata": {},
   "outputs": [],
   "source": [
    "#TODO: Write function that plots the data\n",
    "# def plot_data(data):"
   ]
  },
  {
   "cell_type": "code",
   "execution_count": null,
   "id": "6eb395c2",
   "metadata": {
    "vscode": {
     "languageId": "plaintext"
    }
   },
   "outputs": [],
   "source": []
  },
  {
   "cell_type": "markdown",
   "id": "315b0ef3",
   "metadata": {},
   "source": []
  }
 ],
 "metadata": {
  "language_info": {
   "name": "python"
  }
 },
 "nbformat": 4,
 "nbformat_minor": 5
}
