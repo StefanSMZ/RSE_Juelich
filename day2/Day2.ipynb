{
 "cells": [
  {
   "cell_type": "code",
   "execution_count": null,
   "id": "c3347c83",
   "metadata": {
    "vscode": {
     "languageId": "plaintext"
    }
   },
   "outputs": [],
   "source": [
    "! git clone https://github.com/likeajumprope/RSE_Juelich.git"
   ]
  },
  {
   "cell_type": "code",
   "execution_count": null,
   "id": "c2113d5e",
   "metadata": {
    "vscode": {
     "languageId": "plaintext"
    }
   },
   "outputs": [],
   "source": [
    "%cd  /content/RSE_Juelich/day2"
   ]
  },
  {
   "cell_type": "code",
   "execution_count": null,
   "id": "519a0f0c",
   "metadata": {
    "vscode": {
     "languageId": "plaintext"
    }
   },
   "outputs": [],
   "source": [
    "!pip install -r requirements.txt"
   ]
  },
  {
   "cell_type": "code",
   "execution_count": null,
   "id": "6eb395c2",
   "metadata": {
    "vscode": {
     "languageId": "plaintext"
    }
   },
   "outputs": [],
   "source": [
    "## Write functions to analyze your data.\n",
    "You can either define them in Jupyter cells and run them later, or save them as python files (.py) in /src, to mimic behaviour on your local machine.\n",
    "If you do the latter, make sure that you can import them."
   ]
  },
  {
   "cell_type": "markdown",
   "id": "315b0ef3",
   "metadata": {},
   "source": []
  }
 ],
 "metadata": {
  "language_info": {
   "name": "python"
  }
 },
 "nbformat": 4,
 "nbformat_minor": 5
}
